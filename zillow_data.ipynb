{
 "cells": [
  {
   "cell_type": "code",
   "execution_count": 12,
   "metadata": {},
   "outputs": [],
   "source": [
    "#standard imports\n",
    "\n",
    "import pandas as pd\n",
    "import numpy as np\n",
    "import matplotlib.pyplot as plt\n"
   ]
  },
  {
   "cell_type": "code",
   "execution_count": 13,
   "metadata": {},
   "outputs": [
    {
     "name": "stdout",
     "output_type": "stream",
     "text": [
      "  indicator_id  region_id        date     value\n",
      "0         ZATT       3101  1998-01-31  338849.0\n",
      "1         ZATT       3101  1998-02-28  342993.0\n",
      "2         ZATT       3101  1998-03-31  346763.0\n",
      "3         ZATT       3101  1998-04-30  349356.0\n",
      "4         ZATT       3101  1998-05-31  351981.0\n",
      "<class 'pandas.core.frame.DataFrame'>\n",
      "RangeIndex: 159415321 entries, 0 to 159415320\n",
      "Data columns (total 4 columns):\n",
      " #   Column        Dtype  \n",
      "---  ------        -----  \n",
      " 0   indicator_id  object \n",
      " 1   region_id     int64  \n",
      " 2   date          object \n",
      " 3   value         float64\n",
      "dtypes: float64(1), int64(1), object(2)\n",
      "memory usage: 4.8+ GB\n",
      "None\n"
     ]
    }
   ],
   "source": [
    "#read in and print csv\n",
    "\n",
    "df = pd.read_csv('ZILLOW_DATA.csv')\n",
    "print(df.head())\n",
    "print(df.info())"
   ]
  },
  {
   "cell_type": "code",
   "execution_count": 14,
   "metadata": {},
   "outputs": [
    {
     "name": "stdout",
     "output_type": "stream",
     "text": [
      "indicator_id     object\n",
      "region_id         int64\n",
      "date             object\n",
      "value           float64\n",
      "dtype: object\n",
      "Index                   128\n",
      "indicator_id     9724334581\n",
      "region_id        1275322568\n",
      "date            10680826507\n",
      "value            1275322568\n",
      "dtype: int64\n"
     ]
    }
   ],
   "source": [
    "#the data is rather large\n",
    "#getting more information to increase process speeds\n",
    "print(df.dtypes)\n",
    "print(df.memory_usage(deep=True))"
   ]
  },
  {
   "cell_type": "code",
   "execution_count": 15,
   "metadata": {},
   "outputs": [
    {
     "name": "stdout",
     "output_type": "stream",
     "text": [
      "indicator_id          category\n",
      "region_id                int64\n",
      "date            datetime64[ns]\n",
      "value                  float64\n",
      "dtype: object\n",
      "Index                  128\n",
      "indicator_id     159420841\n",
      "region_id       1275322568\n",
      "date            1275322568\n",
      "value           1275322568\n",
      "dtype: int64\n"
     ]
    }
   ],
   "source": [
    "#date and indicator_id taking up most of the memory\n",
    "#we can convert indicator_id to a category as there are few unique values\n",
    "#we'll also take this opportunity to convert the date column to a datetime dtype\n",
    "df2 = df.copy()\n",
    "df2['indicator_id'] = df2['indicator_id'].astype('category')\n",
    "df2['date'] = pd.to_datetime(df2['date']).copy()\n",
    "#check to see dtypes and new memory usage\n",
    "print(df2.dtypes)\n",
    "print(df2.memory_usage(deep=True))"
   ]
  },
  {
   "cell_type": "code",
   "execution_count": 16,
   "metadata": {},
   "outputs": [
    {
     "name": "stdout",
     "output_type": "stream",
     "text": [
      "indicator_id          category\n",
      "region_id             category\n",
      "date            datetime64[ns]\n",
      "value                  float64\n",
      "dtype: object\n",
      "Index                  128\n",
      "indicator_id     159420841\n",
      "region_id        640489300\n",
      "date            1275322568\n",
      "value           1275322568\n",
      "dtype: int64\n"
     ]
    }
   ],
   "source": [
    "#the memory usage is drastically reduced\n",
    "#in final version of this code, we will read the csv with these dtypes\n",
    "#we can also change region_id to a category dtype and value to int as there are no decmials\n",
    "df2['region_id'] = df2['region_id'].astype('category')\n",
    "print(df2.dtypes)\n",
    "print(df2.memory_usage(deep=True))"
   ]
  },
  {
   "cell_type": "code",
   "execution_count": 17,
   "metadata": {},
   "outputs": [
    {
     "name": "stdout",
     "output_type": "stream",
     "text": [
      "  indicator_id                                          indicator  \\\n",
      "0         SAAW  Median Sale Price (Smooth & Seasonally Adjuste...   \n",
      "1         SRAM        Median Sale Price (Raw, All Homes, Monthly)   \n",
      "2         NSAM  Median Days to Pending (Smooth, All Homes, Mon...   \n",
      "3         RSNA  ZORI (Smoothed): All Homes Plus Multifamily Ti...   \n",
      "4         RSSA  ZORI (Smoothed, Seasonally Adjusted): All Home...   \n",
      "\n",
      "              category  \n",
      "0  Inventory and sales  \n",
      "1  Inventory and sales  \n",
      "2  Inventory and sales  \n",
      "3              Rentals  \n",
      "4              Rentals  \n",
      "<class 'pandas.core.frame.DataFrame'>\n",
      "RangeIndex: 56 entries, 0 to 55\n",
      "Data columns (total 3 columns):\n",
      " #   Column        Non-Null Count  Dtype   \n",
      "---  ------        --------------  -----   \n",
      " 0   indicator_id  56 non-null     category\n",
      " 1   indicator     56 non-null     category\n",
      " 2   category      56 non-null     category\n",
      "dtypes: category(3)\n",
      "memory usage: 5.4 KB\n",
      "None\n",
      "  region_id region_type                                             region\n",
      "0     32503        city            Lincoln;NE;Lincoln, NE;Lancaster County\n",
      "1     96208         zip  90706;CA;Los Angeles-Long Beach-Anaheim, CA;Be...\n",
      "2    394415       metro                                     Bridgeport, CT\n",
      "3    394653       metro                                     Greenville, SC\n",
      "4    394312       metro                                    Albuquerque, NM\n",
      "<class 'pandas.core.frame.DataFrame'>\n",
      "RangeIndex: 89305 entries, 0 to 89304\n",
      "Data columns (total 3 columns):\n",
      " #   Column       Non-Null Count  Dtype   \n",
      "---  ------       --------------  -----   \n",
      " 0   region_id    89305 non-null  category\n",
      " 1   region_type  89305 non-null  category\n",
      " 2   region       89305 non-null  category\n",
      "dtypes: category(3)\n",
      "memory usage: 6.2 MB\n",
      "None\n"
     ]
    }
   ],
   "source": [
    "#now, we have indicator_id and region_id, but what do they mean?\n",
    "#two separate csvs for this\n",
    "indicators = pd.read_csv('ZILLOW_INDICATORS.csv', dtype='category')\n",
    "print(indicators.head())\n",
    "print(indicators.info())\n",
    "regions = pd.read_csv('ZILLOW_REGIONS.csv', dtype='category')\n",
    "print(regions.head())\n",
    "print(regions.info())\n",
    "\n"
   ]
  },
  {
   "cell_type": "code",
   "execution_count": 18,
   "metadata": {},
   "outputs": [],
   "source": [
    "\n",
    "# first, we need to set an index for the new csvs\n",
    "indicators.set_index('indicator_id', inplace=True)\n",
    "regions.set_index('region_id', inplace=True)\n",
    "df2.set_index(['indicator_id','region_id'],inplace=True)\n"
   ]
  },
  {
   "cell_type": "code",
   "execution_count": 19,
   "metadata": {},
   "outputs": [
    {
     "name": "stdout",
     "output_type": "stream",
     "text": [
      "                             date     value  \\\n",
      "indicator_id region_id                        \n",
      "ZATT         3101      1998-01-31  338849.0   \n",
      "             3101      1998-02-28  342993.0   \n",
      "             3101      1998-03-31  346763.0   \n",
      "             3101      1998-04-30  349356.0   \n",
      "             3101      1998-05-31  351981.0   \n",
      "\n",
      "                                                       indicator     category  \\\n",
      "indicator_id region_id                                                          \n",
      "ZATT         3101       ZHVI All Homes- Top Tier Time Series ($)  Home values   \n",
      "             3101       ZHVI All Homes- Top Tier Time Series ($)  Home values   \n",
      "             3101       ZHVI All Homes- Top Tier Time Series ($)  Home values   \n",
      "             3101       ZHVI All Homes- Top Tier Time Series ($)  Home values   \n",
      "             3101       ZHVI All Homes- Top Tier Time Series ($)  Home values   \n",
      "\n",
      "                       region_type region  \n",
      "indicator_id region_id                     \n",
      "ZATT         3101              NaN    NaN  \n",
      "             3101              NaN    NaN  \n",
      "             3101              NaN    NaN  \n",
      "             3101              NaN    NaN  \n",
      "             3101              NaN    NaN  \n",
      "<bound method Series.unique of indicator_id  region_id\n",
      "ZATT          3101         Home values\n",
      "              3101         Home values\n",
      "              3101         Home values\n",
      "              3101         Home values\n",
      "              3101         Home values\n",
      "                              ...     \n",
      "RSSA          67751            Rentals\n",
      "              61773            Rentals\n",
      "              84608            Rentals\n",
      "              61620            Rentals\n",
      "              58623            Rentals\n",
      "Name: category, Length: 159415321, dtype: category\n",
      "Categories (3, object): ['Home values', 'Inventory and sales', 'Rentals']>\n",
      "                             date     value  \\\n",
      "indicator_id region_id                        \n",
      "ZATT         3101      1998-01-31  338849.0   \n",
      "             3101      1998-02-28  342993.0   \n",
      "             3101      1998-03-31  346763.0   \n",
      "             3101      1998-04-30  349356.0   \n",
      "             3101      1998-05-31  351981.0   \n",
      "\n",
      "                                                       indicator     category  \\\n",
      "indicator_id region_id                                                          \n",
      "ZATT         3101       ZHVI All Homes- Top Tier Time Series ($)  Home values   \n",
      "             3101       ZHVI All Homes- Top Tier Time Series ($)  Home values   \n",
      "             3101       ZHVI All Homes- Top Tier Time Series ($)  Home values   \n",
      "             3101       ZHVI All Homes- Top Tier Time Series ($)  Home values   \n",
      "             3101       ZHVI All Homes- Top Tier Time Series ($)  Home values   \n",
      "\n",
      "                       region_type region  \n",
      "indicator_id region_id                     \n",
      "ZATT         3101              NaN    NaN  \n",
      "             3101              NaN    NaN  \n",
      "             3101              NaN    NaN  \n",
      "             3101              NaN    NaN  \n",
      "             3101              NaN    NaN  \n",
      "                             date   value  \\\n",
      "indicator_id region_id                      \n",
      "RSNA         394460    2020-06-30  1247.0   \n",
      "             394645    2020-06-30  1641.0   \n",
      "RSSA         394460    2020-06-30  1219.0   \n",
      "             394645    2020-06-30  1701.0   \n",
      "RSNA         394460    2020-04-30  1202.0   \n",
      "\n",
      "                                                                indicator  \\\n",
      "indicator_id region_id                                                      \n",
      "RSNA         394460     ZORI (Smoothed): All Homes Plus Multifamily Ti...   \n",
      "             394645     ZORI (Smoothed): All Homes Plus Multifamily Ti...   \n",
      "RSSA         394460     ZORI (Smoothed, Seasonally Adjusted): All Home...   \n",
      "             394645     ZORI (Smoothed, Seasonally Adjusted): All Home...   \n",
      "RSNA         394460     ZORI (Smoothed): All Homes Plus Multifamily Ti...   \n",
      "\n",
      "                       category region_type region  \n",
      "indicator_id region_id                              \n",
      "RSNA         394460     Rentals         NaN    NaN  \n",
      "             394645     Rentals         NaN    NaN  \n",
      "RSSA         394460     Rentals         NaN    NaN  \n",
      "             394645     Rentals         NaN    NaN  \n",
      "RSNA         394460     Rentals         NaN    NaN  \n",
      "                             date     value  \\\n",
      "indicator_id region_id                        \n",
      "ZATT         3101      1998-01-31  338849.0   \n",
      "             3101      1998-02-28  342993.0   \n",
      "             3101      1998-03-31  346763.0   \n",
      "             3101      1998-04-30  349356.0   \n",
      "             3101      1998-05-31  351981.0   \n",
      "\n",
      "                                                       indicator     category  \\\n",
      "indicator_id region_id                                                          \n",
      "ZATT         3101       ZHVI All Homes- Top Tier Time Series ($)  Home values   \n",
      "             3101       ZHVI All Homes- Top Tier Time Series ($)  Home values   \n",
      "             3101       ZHVI All Homes- Top Tier Time Series ($)  Home values   \n",
      "             3101       ZHVI All Homes- Top Tier Time Series ($)  Home values   \n",
      "             3101       ZHVI All Homes- Top Tier Time Series ($)  Home values   \n",
      "\n",
      "                       region_type region  \n",
      "indicator_id region_id                     \n",
      "ZATT         3101              NaN    NaN  \n",
      "             3101              NaN    NaN  \n",
      "             3101              NaN    NaN  \n",
      "             3101              NaN    NaN  \n",
      "             3101              NaN    NaN  \n",
      "                             date  value  \\\n",
      "indicator_id region_id                     \n",
      "ISAW         395186    2023-06-10   28.0   \n",
      "             395186    2023-06-17   29.0   \n",
      "             395186    2023-06-24   30.0   \n",
      "             395186    2023-07-08   29.0   \n",
      "             395186    2023-07-15   29.0   \n",
      "\n",
      "                                                                indicator  \\\n",
      "indicator_id region_id                                                      \n",
      "ISAW         395186     For-Sale Inventory (Smooth, All Homes, Weekly ...   \n",
      "             395186     For-Sale Inventory (Smooth, All Homes, Weekly ...   \n",
      "             395186     For-Sale Inventory (Smooth, All Homes, Weekly ...   \n",
      "             395186     For-Sale Inventory (Smooth, All Homes, Weekly ...   \n",
      "             395186     For-Sale Inventory (Smooth, All Homes, Weekly ...   \n",
      "\n",
      "                                   category region_type region  \n",
      "indicator_id region_id                                          \n",
      "ISAW         395186     Inventory and sales         NaN    NaN  \n",
      "             395186     Inventory and sales         NaN    NaN  \n",
      "             395186     Inventory and sales         NaN    NaN  \n",
      "             395186     Inventory and sales         NaN    NaN  \n",
      "             395186     Inventory and sales         NaN    NaN  \n"
     ]
    }
   ],
   "source": [
    "# join csvs and do some exploratory\n",
    "full_data = df2.join([indicators,regions])\n",
    "print(full_data.head())\n",
    "print(full_data['category'].unique)\n",
    "#separate datasets by category, .copy() to avoid possible view as we will likely modify these datesets from here\n",
    "print(full_data.head())\n",
    "rentals = full_data[full_data['category'] == 'Rentals'].copy()\n",
    "print(rentals.head())\n",
    "home_values = full_data[full_data['category'] == 'Home values'].copy()\n",
    "print(home_values.head())\n",
    "inv_sales = full_data[full_data['category'] == 'Inventory and sales'].copy()\n",
    "print(inv_sales.head())"
   ]
  },
  {
   "cell_type": "code",
   "execution_count": 20,
   "metadata": {},
   "outputs": [],
   "source": [
    "#for some reason here these dataframes have NaN values, while in the separate zillow_data.py the values were filled\n",
    "#based on the diff in the code, the most likely cause for this is the modification of the df object after it has been read in, as in the .py this was done during the read process\n"
   ]
  }
 ],
 "metadata": {
  "kernelspec": {
   "display_name": "Python 3",
   "language": "python",
   "name": "python3"
  },
  "language_info": {
   "codemirror_mode": {
    "name": "ipython",
    "version": 3
   },
   "file_extension": ".py",
   "mimetype": "text/x-python",
   "name": "python",
   "nbconvert_exporter": "python",
   "pygments_lexer": "ipython3",
   "version": "3.10.4"
  }
 },
 "nbformat": 4,
 "nbformat_minor": 2
}
