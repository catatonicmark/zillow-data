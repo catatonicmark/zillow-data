{
 "cells": [
  {
   "cell_type": "code",
   "execution_count": 66,
   "metadata": {},
   "outputs": [],
   "source": [
    "#standard imports\n",
    "\n",
    "import pandas as pd\n",
    "import numpy as np\n",
    "import matplotlib.pyplot as plt\n"
   ]
  },
  {
   "cell_type": "code",
   "execution_count": 45,
   "metadata": {},
   "outputs": [
    {
     "name": "stdout",
     "output_type": "stream",
     "text": [
      "<class 'pandas.core.frame.DataFrame'>\n",
      "RangeIndex: 56 entries, 0 to 55\n",
      "Data columns (total 3 columns):\n",
      " #   Column        Non-Null Count  Dtype \n",
      "---  ------        --------------  ----- \n",
      " 0   indicator_id  56 non-null     object\n",
      " 1   indicator     56 non-null     object\n",
      " 2   category      56 non-null     object\n",
      "dtypes: object(3)\n",
      "memory usage: 1.4+ KB\n",
      "  indicator_id                                          indicator  \\\n",
      "0         SAAW  Median Sale Price (Smooth & Seasonally Adjuste...   \n",
      "1         SRAM        Median Sale Price (Raw, All Homes, Monthly)   \n",
      "2         NSAM  Median Days to Pending (Smooth, All Homes, Mon...   \n",
      "3         RSNA  ZORI (Smoothed): All Homes Plus Multifamily Ti...   \n",
      "4         RSSA  ZORI (Smoothed, Seasonally Adjusted): All Home...   \n",
      "\n",
      "              category  \n",
      "0  Inventory and sales  \n",
      "1  Inventory and sales  \n",
      "2  Inventory and sales  \n",
      "3              Rentals  \n",
      "4              Rentals   None\n",
      "<class 'pandas.core.frame.DataFrame'>\n",
      "RangeIndex: 89305 entries, 0 to 89304\n",
      "Data columns (total 3 columns):\n",
      " #   Column       Non-Null Count  Dtype \n",
      "---  ------       --------------  ----- \n",
      " 0   region_id    89305 non-null  int64 \n",
      " 1   region_type  89305 non-null  object\n",
      " 2   region       89305 non-null  object\n",
      "dtypes: int64(1), object(2)\n",
      "memory usage: 2.0+ MB\n",
      "   region_id region_type                                             region\n",
      "0      32503        city            Lincoln;NE;Lincoln, NE;Lancaster County\n",
      "1      96208         zip  90706;CA;Los Angeles-Long Beach-Anaheim, CA;Be...\n",
      "2     394415       metro                                     Bridgeport, CT\n",
      "3     394653       metro                                     Greenville, SC\n",
      "4     394312       metro                                    Albuquerque, NM None\n"
     ]
    }
   ],
   "source": [
    "#actual dataset is quite large, so first looking at filters first\n",
    "#a glance at all these they can be imported as categories to save memory\n",
    "indicators = pd.read_csv('ZILLOW_INDICATORS.csv')\n",
    "regions = pd.read_csv('ZILLOW_REGIONS.csv')\n",
    "print(indicators.head(),indicators.info())\n",
    "print(regions.head(),regions.info())\n"
   ]
  },
  {
   "cell_type": "code",
   "execution_count": 46,
   "metadata": {},
   "outputs": [
    {
     "name": "stdout",
     "output_type": "stream",
     "text": [
      "   indicator_id                                          indicator  \\\n",
      "0          SAAW  Median Sale Price (Smooth & Seasonally Adjuste...   \n",
      "1          SRAM        Median Sale Price (Raw, All Homes, Monthly)   \n",
      "2          NSAM  Median Days to Pending (Smooth, All Homes, Mon...   \n",
      "3          RSNA  ZORI (Smoothed): All Homes Plus Multifamily Ti...   \n",
      "4          RSSA  ZORI (Smoothed, Seasonally Adjusted): All Home...   \n",
      "5          ZATT           ZHVI All Homes- Top Tier Time Series ($)   \n",
      "6          ZSFH           ZHVI Single-Family Homes Time Series ($)   \n",
      "7          ZALL  ZHVI All Homes (SFR, Condo/Co-op) Time Series ($)   \n",
      "8          ZCON                   ZHVI Condo/Co-op Time Series ($)   \n",
      "9          ZABT        ZHVI All Homes- Bottom Tier Time Series ($)   \n",
      "10         Z5BR                    ZHVI 5+ Bedroom Time Series ($)   \n",
      "11         Z2BR                     ZHVI 2-Bedroom Time Series ($)   \n",
      "12         Z3BR                     ZHVI 3-Bedroom Time Series ($)   \n",
      "13         Z1BR                     ZHVI 1-Bedroom Time Series ($)   \n",
      "14         Z4BR                     ZHVI 4-Bedroom Time Series ($)   \n",
      "15         ISAW  For-Sale Inventory (Smooth, All Homes, Weekly ...   \n",
      "16         SSAW  Median Sale Price (Smooth, All Homes, Weekly V...   \n",
      "17         IRAM       For-Sale Inventory (Raw, All Homes, Monthly)   \n",
      "18         CRSM  Share of Listings With a Price Cut (Raw, SFR O...   \n",
      "19         CSSM  Share of Listings With a Price Cut (Smooth, SF...   \n",
      "20         MSAM  Mean Days to Pending (Smooth, All Homes, Monthly)   \n",
      "21         IRAW   For-Sale Inventory (Raw, All Homes, Weekly View)   \n",
      "22         MRAM     Mean Days to Pending (Raw, All Homes, Monthly)   \n",
      "23         SSSW  Median Sale Price (Smooth, SFR only, Weekly View)   \n",
      "24         LSSM      Median List Price (Smooth, SFR Only, Monthly)   \n",
      "25         CSAW  Share of Listings With a Price Cut (Smooth, Al...   \n",
      "26         ISSM     For-Sale Inventory (Smooth, SFR only, Monthly)   \n",
      "27         SASW  Median Sale Price (Smooth & Seasonally Adjuste...   \n",
      "28         MRAW  Mean Days to Pending (Raw, All Homes, Weekly V...   \n",
      "29         LRAM        Median List Price (Raw, All Homes, Monthly)   \n",
      "30         ISSW  For-Sale Inventory (Smooth, SFR only, Weekly V...   \n",
      "31         MSAW  Mean Days to Pending (Smooth, All Homes, Weekl...   \n",
      "32         LSAM     Median List Price (Smooth, All Homes, Monthly)   \n",
      "33         CRAM  Share of Listings With a Price Cut (Raw, All H...   \n",
      "34         ISAM    For-Sale Inventory (Smooth, All Homes, Monthly)   \n",
      "35         IRSM        For-sale Inventory (Raw, SFR only, Monthly)   \n",
      "36         SRSW     Median Sale Price (Raw, SFR only, Weekly View)   \n",
      "37         LSAW  Median List Price (Smooth, All Homes, Weekly V...   \n",
      "38         NRAW  Median Days to Pending (Raw, All Homes, Weekly...   \n",
      "39         NSAW  Median Days to Pending (Smooth, All Homes, Wee...   \n",
      "40         CRSW  Share of Listings With a Price Cut (Raw, SFR O...   \n",
      "41         SSAM     Median Sale Price (Smooth, All Homes, Monthly)   \n",
      "42         IRSW    For-sale Inventory (Raw, SFR only, Weekly View)   \n",
      "43         NRAM   Median Days to Pending (Raw, All Homes, Monthly)   \n",
      "44         CRAW  Share of Listings With a Price Cut (Raw, All H...   \n",
      "45         LRSM         Median List Price (Raw, SFR Only, Monthly)   \n",
      "46         SASM  Median Sale Price (Smooth & Seasonally Adjuste...   \n",
      "47         SSSM      Median Sale Price (Smooth, SFR only, Monthly)   \n",
      "48         SAAM  Median Sale Price (Smooth & Seasonally Adjuste...   \n",
      "49         LRAW    Median List Price (Raw, All Homes, Weekly View)   \n",
      "50         CSAM  Share of Listings With a Price Cut (Smooth, Al...   \n",
      "51         SRAW    Median Sale Price (Raw, All Homes, Weekly View)   \n",
      "52         CSSW  Share of Listings With a Price Cut (Smooth, SF...   \n",
      "53         LRSW     Median List Price (Raw, SFR Only, Weekly View)   \n",
      "54         SRSM         Median Sale Price (Raw, SFR only, Monthly)   \n",
      "55         LSSW  Median List Price (Smooth, SFR Only, Weekly View)   \n",
      "\n",
      "               category  \n",
      "0   Inventory and sales  \n",
      "1   Inventory and sales  \n",
      "2   Inventory and sales  \n",
      "3               Rentals  \n",
      "4               Rentals  \n",
      "5           Home values  \n",
      "6           Home values  \n",
      "7           Home values  \n",
      "8           Home values  \n",
      "9           Home values  \n",
      "10          Home values  \n",
      "11          Home values  \n",
      "12          Home values  \n",
      "13          Home values  \n",
      "14          Home values  \n",
      "15  Inventory and sales  \n",
      "16  Inventory and sales  \n",
      "17  Inventory and sales  \n",
      "18  Inventory and sales  \n",
      "19  Inventory and sales  \n",
      "20  Inventory and sales  \n",
      "21  Inventory and sales  \n",
      "22  Inventory and sales  \n",
      "23  Inventory and sales  \n",
      "24  Inventory and sales  \n",
      "25  Inventory and sales  \n",
      "26  Inventory and sales  \n",
      "27  Inventory and sales  \n",
      "28  Inventory and sales  \n",
      "29  Inventory and sales  \n",
      "30  Inventory and sales  \n",
      "31  Inventory and sales  \n",
      "32  Inventory and sales  \n",
      "33  Inventory and sales  \n",
      "34  Inventory and sales  \n",
      "35  Inventory and sales  \n",
      "36  Inventory and sales  \n",
      "37  Inventory and sales  \n",
      "38  Inventory and sales  \n",
      "39  Inventory and sales  \n",
      "40  Inventory and sales  \n",
      "41  Inventory and sales  \n",
      "42  Inventory and sales  \n",
      "43  Inventory and sales  \n",
      "44  Inventory and sales  \n",
      "45  Inventory and sales  \n",
      "46  Inventory and sales  \n",
      "47  Inventory and sales  \n",
      "48  Inventory and sales  \n",
      "49  Inventory and sales  \n",
      "50  Inventory and sales  \n",
      "51  Inventory and sales  \n",
      "52  Inventory and sales  \n",
      "53  Inventory and sales  \n",
      "54  Inventory and sales  \n",
      "55  Inventory and sales  \n",
      "       region_id region_type  \\\n",
      "0          32503        city   \n",
      "1          96208         zip   \n",
      "2         394415       metro   \n",
      "3         394653       metro   \n",
      "4         394312       metro   \n",
      "...          ...         ...   \n",
      "89300      59107         zip   \n",
      "89301      94027         zip   \n",
      "89302      58463         zip   \n",
      "89303      75653         zip   \n",
      "89304      83566         zip   \n",
      "\n",
      "                                                  region  \n",
      "0                Lincoln;NE;Lincoln, NE;Lancaster County  \n",
      "1      90706;CA;Los Angeles-Long Beach-Anaheim, CA;Be...  \n",
      "2                                         Bridgeport, CT  \n",
      "3                                         Greenville, SC  \n",
      "4                                        Albuquerque, NM  \n",
      "...                                                  ...  \n",
      "89300    3293;NH;Lebanon, NH-VT;Woodstock;Grafton County  \n",
      "89301        83025;WY;Jackson, WY-ID;Wilson;Teton County  \n",
      "89302  1718;MA;Boston-Cambridge-Newton, MA-NH;Acton;M...  \n",
      "89303                       40363;KY;nan;nan;Owen County  \n",
      "89304               58249;ND;nan;Langdon;Cavalier County  \n",
      "\n",
      "[89305 rows x 3 columns]\n"
     ]
    }
   ],
   "source": [
    "#based on info, we can set indexes with id columns and change types to categories for others\n",
    "indicators = indicators.astype({'indicator_id': 'string', 'indicator': 'category', 'category': 'category'})\n",
    "regions = regions.astype({'region_type': 'category', 'region': 'category'})\n",
    "indicators.set_index('indicator_id')\n",
    "regions.set_index('region_id')\n",
    "print(indicators)\n",
    "print(regions)"
   ]
  },
  {
   "cell_type": "code",
   "execution_count": 49,
   "metadata": {},
   "outputs": [
    {
     "name": "stdout",
     "output_type": "stream",
     "text": [
      "   indicator_id                                          indicator\n",
      "5          ZATT           ZHVI All Homes- Top Tier Time Series ($)\n",
      "6          ZSFH           ZHVI Single-Family Homes Time Series ($)\n",
      "7          ZALL  ZHVI All Homes (SFR, Condo/Co-op) Time Series ($)\n",
      "8          ZCON                   ZHVI Condo/Co-op Time Series ($)\n",
      "9          ZABT        ZHVI All Homes- Bottom Tier Time Series ($)\n",
      "10         Z5BR                    ZHVI 5+ Bedroom Time Series ($)\n",
      "11         Z2BR                     ZHVI 2-Bedroom Time Series ($)\n",
      "12         Z3BR                     ZHVI 3-Bedroom Time Series ($)\n",
      "13         Z1BR                     ZHVI 1-Bedroom Time Series ($)\n",
      "14         Z4BR                     ZHVI 4-Bedroom Time Series ($)\n"
     ]
    }
   ],
   "source": [
    "#based  on the indicators, we'll start with pulling data just for the 'home values' category\n",
    "home_values_indicators = indicators[indicators['category'] == 'Home values'].copy()\n",
    "home_values_indicators.drop(columns='category', inplace=True)\n",
    "print(home_values_indicators)"
   ]
  },
  {
   "cell_type": "code",
   "execution_count": 54,
   "metadata": {},
   "outputs": [
    {
     "name": "stdout",
     "output_type": "stream",
     "text": [
      "<class 'pandas.core.frame.DataFrame'>\n",
      "RangeIndex: 500 entries, 0 to 499\n",
      "Data columns (total 4 columns):\n",
      " #   Column        Non-Null Count  Dtype  \n",
      "---  ------        --------------  -----  \n",
      " 0   indicator_id  500 non-null    object \n",
      " 1   region_id     500 non-null    int64  \n",
      " 2   date          500 non-null    object \n",
      " 3   value         500 non-null    float64\n",
      "dtypes: float64(1), int64(1), object(2)\n",
      "memory usage: 15.8+ KB\n",
      "  indicator_id  region_id        date     value\n",
      "0         ZATT       3101  1998-01-31  338849.0\n",
      "1         ZATT       3101  1998-02-28  342993.0\n",
      "2         ZATT       3101  1998-03-31  346763.0\n",
      "3         ZATT       3101  1998-04-30  349356.0\n",
      "4         ZATT       3101  1998-05-31  351981.0 None\n"
     ]
    }
   ],
   "source": [
    "#the zillow_data csv is quite large, so we'll bring in a sample subset \n",
    "df = pd.read_csv('ZILLOW_DATA.csv',nrows=500)\n",
    "print(df.head(), df.info())"
   ]
  },
  {
   "cell_type": "code",
   "execution_count": 57,
   "metadata": {},
   "outputs": [
    {
     "name": "stdout",
     "output_type": "stream",
     "text": [
      "<class 'pandas.core.frame.DataFrame'>\n",
      "RangeIndex: 159415311 entries, 0 to 159415310\n",
      "Data columns (total 4 columns):\n",
      " #   Column        Dtype         \n",
      "---  ------        -----         \n",
      " 0   indicator_id  string        \n",
      " 1   region_id     int64         \n",
      " 2   date          datetime64[ns]\n",
      " 3   value         float64       \n",
      "dtypes: datetime64[ns](1), float64(1), int64(1), string(1)\n",
      "memory usage: 4.8 GB\n",
      "  indicator_id  region_id       date     value\n",
      "0         ZATT       3101 1998-01-31  338849.0\n",
      "1         ZATT       3101 1998-02-28  342993.0\n",
      "2         ZATT       3101 1998-03-31  346763.0\n",
      "3         ZATT       3101 1998-04-30  349356.0\n",
      "4         ZATT       3101 1999-03-31  378840.0 None\n"
     ]
    }
   ],
   "source": [
    "#from this sample subset we can change some subtypes and parse by date when reading a bigger portion of the csv in\n",
    "#we will also only want to read in the home value category, which we will need a function for\n",
    "home_values = pd.read_csv('ZILLOW_DATA.csv',dtype={'indicator_id':'string'},skiprows= lambda x: x in home_values_indicators['indicator_id'],parse_dates=['date'])\n",
    "print(home_values.head(),home_values.info())"
   ]
  },
  {
   "cell_type": "code",
   "execution_count": null,
   "metadata": {},
   "outputs": [
    {
     "name": "stdout",
     "output_type": "stream",
     "text": [
      "<class 'pandas.core.frame.DataFrame'>\n",
      "RangeIndex: 30 entries, 0 to 29\n",
      "Data columns (total 3 columns):\n",
      " #   Column  Non-Null Count  Dtype  \n",
      "---  ------  --------------  -----  \n",
      " 0   year    30 non-null     int32  \n",
      " 1   mean    30 non-null     float64\n",
      " 2   median  30 non-null     float64\n",
      "dtypes: float64(2), int32(1)\n",
      "memory usage: 732.0 bytes\n",
      "   year       mean    median\n",
      "0  1996  141338.20  115749.0\n",
      "1  1997  145422.93  118913.0\n",
      "2  1998  151442.14  122628.0\n",
      "3  1999  158770.80  126769.0\n",
      "4  2000  164579.61  127276.0 None\n"
     ]
    }
   ],
   "source": [
    "#lets get yearly mean/median data. with some larger values within the dataset, median may be more accurate, so we will look at both\n",
    "home_values['year'] = home_values['date'].dt.year\n",
    "summary_yr = home_values.groupby('year')['value'].agg(['mean','median']).reset_index()\n",
    "summary_yr = summary_yr.round({'mean': 2, 'median': 0})\n",
    "print(summary_yr.head(),summary_yr.info())"
   ]
  },
  {
   "cell_type": "code",
   "execution_count": null,
   "metadata": {},
   "outputs": [
    {
     "data": {
      "image/png": "[encoded data removed]",
      "text/plain": [
       "<Figure size 640x480 with 1 Axes>"
      ]
     },
     "metadata": {},
     "output_type": "display_data"
    }
   ],
   "source": [
    "#quick graph of mean, median over time\n",
    "summary_yr.plot(x='year', y=['mean', 'median'])\n",
    "plt.title('Home Values Over Time')\n",
    "plt.show()"
   ]
  },
  {
   "cell_type": "code",
   "execution_count": null,
   "metadata": {},
   "outputs": [],
   "source": []
  }
 ],
 "metadata": {
  "kernelspec": {
   "display_name": "Python 3",
   "language": "python",
   "name": "python3"
  },
  "language_info": {
   "codemirror_mode": {
    "name": "ipython",
    "version": 3
   },
   "file_extension": ".py",
   "mimetype": "text/x-python",
   "name": "python",
   "nbconvert_exporter": "python",
   "pygments_lexer": "ipython3",
   "version": "3.11.9"
  }
 },
 "nbformat": 4,
 "nbformat_minor": 2
}
